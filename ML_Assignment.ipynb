{
  "nbformat": 4,
  "nbformat_minor": 0,
  "metadata": {
    "colab": {
      "provenance": [],
      "authorship_tag": "ABX9TyNWjh4jp+G9pVuuJASTKl6M",
      "include_colab_link": true
    },
    "kernelspec": {
      "name": "python3",
      "display_name": "Python 3"
    },
    "language_info": {
      "name": "python"
    }
  },
  "cells": [
    {
      "cell_type": "markdown",
      "metadata": {
        "id": "view-in-github",
        "colab_type": "text"
      },
      "source": [
        "<a href=\"https://colab.research.google.com/github/BasitSal1m/Machine-Learning-/blob/main/ML_Assignment.ipynb\" target=\"_parent\"><img src=\"https://colab.research.google.com/assets/colab-badge.svg\" alt=\"Open In Colab\"/></a>"
      ]
    },
    {
      "cell_type": "markdown",
      "source": [
        "**Importing** **Libraries**"
      ],
      "metadata": {
        "id": "8p-imRE77C-W"
      }
    },
    {
      "cell_type": "code",
      "execution_count": 1,
      "metadata": {
        "id": "8eiRDW-yreTp"
      },
      "outputs": [],
      "source": [
        "import pandas as pd"
      ]
    },
    {
      "cell_type": "code",
      "source": [
        "import numpy as np"
      ],
      "metadata": {
        "id": "UvBqWuDar1Cv"
      },
      "execution_count": 2,
      "outputs": []
    },
    {
      "cell_type": "markdown",
      "source": [
        " **Reading Dataset**"
      ],
      "metadata": {
        "id": "a9kzZYP-sDIM"
      }
    },
    {
      "cell_type": "code",
      "source": [
        "ds = pd.read_csv( 'vgsales.csv' )"
      ],
      "metadata": {
        "id": "YGCfHD5ssOvL"
      },
      "execution_count": 4,
      "outputs": []
    },
    {
      "cell_type": "code",
      "source": [
        "ds.head"
      ],
      "metadata": {
        "colab": {
          "base_uri": "https://localhost:8080/"
        },
        "id": "2gYRbysos1Kz",
        "outputId": "ce6a8e76-2f08-4c62-f863-8608637aec16"
      },
      "execution_count": 5,
      "outputs": [
        {
          "output_type": "execute_result",
          "data": {
            "text/plain": [
              "<bound method NDFrame.head of         Rank                                              Name Platform  \\\n",
              "0          1                                        Wii Sports      Wii   \n",
              "1          2                                 Super Mario Bros.      NES   \n",
              "2          3                                    Mario Kart Wii      Wii   \n",
              "3          4                                 Wii Sports Resort      Wii   \n",
              "4          5                          Pokemon Red/Pokemon Blue       GB   \n",
              "...      ...                                               ...      ...   \n",
              "16593  16596                Woody Woodpecker in Crazy Castle 5      GBA   \n",
              "16594  16597                     Men in Black II: Alien Escape       GC   \n",
              "16595  16598  SCORE International Baja 1000: The Official Game      PS2   \n",
              "16596  16599                                        Know How 2       DS   \n",
              "16597  16600                                  Spirits & Spells      GBA   \n",
              "\n",
              "         Year         Genre   Publisher  NA_Sales  EU_Sales  JP_Sales  \\\n",
              "0      2006.0        Sports    Nintendo     41.49     29.02      3.77   \n",
              "1      1985.0      Platform    Nintendo     29.08      3.58      6.81   \n",
              "2      2008.0        Racing    Nintendo     15.85     12.88      3.79   \n",
              "3      2009.0        Sports    Nintendo     15.75     11.01      3.28   \n",
              "4      1996.0  Role-Playing    Nintendo     11.27      8.89     10.22   \n",
              "...       ...           ...         ...       ...       ...       ...   \n",
              "16593  2002.0      Platform       Kemco      0.01      0.00      0.00   \n",
              "16594  2003.0       Shooter  Infogrames      0.01      0.00      0.00   \n",
              "16595  2008.0        Racing  Activision      0.00      0.00      0.00   \n",
              "16596  2010.0        Puzzle    7G//AMES      0.00      0.01      0.00   \n",
              "16597  2003.0      Platform     Wanadoo      0.01      0.00      0.00   \n",
              "\n",
              "       Other_Sales  Global_Sales  \n",
              "0             8.46         82.74  \n",
              "1             0.77         40.24  \n",
              "2             3.31         35.82  \n",
              "3             2.96         33.00  \n",
              "4             1.00         31.37  \n",
              "...            ...           ...  \n",
              "16593         0.00          0.01  \n",
              "16594         0.00          0.01  \n",
              "16595         0.00          0.01  \n",
              "16596         0.00          0.01  \n",
              "16597         0.00          0.01  \n",
              "\n",
              "[16598 rows x 11 columns]>"
            ]
          },
          "metadata": {},
          "execution_count": 5
        }
      ]
    },
    {
      "cell_type": "markdown",
      "source": [
        "**Removing Missing Values**"
      ],
      "metadata": {
        "id": "90cHu9dVtDaP"
      }
    },
    {
      "cell_type": "code",
      "source": [
        "ds_rmv = ds.dropna()"
      ],
      "metadata": {
        "id": "JbXIt4nJtJ3D"
      },
      "execution_count": 6,
      "outputs": []
    },
    {
      "cell_type": "code",
      "source": [
        "ds_rmv.head()\n"
      ],
      "metadata": {
        "colab": {
          "base_uri": "https://localhost:8080/",
          "height": 206
        },
        "id": "SM3LH_-ktU70",
        "outputId": "9c31915d-cbf9-4b0e-9f55-30f9c37ecab7"
      },
      "execution_count": 7,
      "outputs": [
        {
          "output_type": "execute_result",
          "data": {
            "text/plain": [
              "   Rank                      Name Platform    Year         Genre Publisher  \\\n",
              "0     1                Wii Sports      Wii  2006.0        Sports  Nintendo   \n",
              "1     2         Super Mario Bros.      NES  1985.0      Platform  Nintendo   \n",
              "2     3            Mario Kart Wii      Wii  2008.0        Racing  Nintendo   \n",
              "3     4         Wii Sports Resort      Wii  2009.0        Sports  Nintendo   \n",
              "4     5  Pokemon Red/Pokemon Blue       GB  1996.0  Role-Playing  Nintendo   \n",
              "\n",
              "   NA_Sales  EU_Sales  JP_Sales  Other_Sales  Global_Sales  \n",
              "0     41.49     29.02      3.77         8.46         82.74  \n",
              "1     29.08      3.58      6.81         0.77         40.24  \n",
              "2     15.85     12.88      3.79         3.31         35.82  \n",
              "3     15.75     11.01      3.28         2.96         33.00  \n",
              "4     11.27      8.89     10.22         1.00         31.37  "
            ],
            "text/html": [
              "\n",
              "  <div id=\"df-f248c851-d766-434f-bad8-7010d1ec0fa7\" class=\"colab-df-container\">\n",
              "    <div>\n",
              "<style scoped>\n",
              "    .dataframe tbody tr th:only-of-type {\n",
              "        vertical-align: middle;\n",
              "    }\n",
              "\n",
              "    .dataframe tbody tr th {\n",
              "        vertical-align: top;\n",
              "    }\n",
              "\n",
              "    .dataframe thead th {\n",
              "        text-align: right;\n",
              "    }\n",
              "</style>\n",
              "<table border=\"1\" class=\"dataframe\">\n",
              "  <thead>\n",
              "    <tr style=\"text-align: right;\">\n",
              "      <th></th>\n",
              "      <th>Rank</th>\n",
              "      <th>Name</th>\n",
              "      <th>Platform</th>\n",
              "      <th>Year</th>\n",
              "      <th>Genre</th>\n",
              "      <th>Publisher</th>\n",
              "      <th>NA_Sales</th>\n",
              "      <th>EU_Sales</th>\n",
              "      <th>JP_Sales</th>\n",
              "      <th>Other_Sales</th>\n",
              "      <th>Global_Sales</th>\n",
              "    </tr>\n",
              "  </thead>\n",
              "  <tbody>\n",
              "    <tr>\n",
              "      <th>0</th>\n",
              "      <td>1</td>\n",
              "      <td>Wii Sports</td>\n",
              "      <td>Wii</td>\n",
              "      <td>2006.0</td>\n",
              "      <td>Sports</td>\n",
              "      <td>Nintendo</td>\n",
              "      <td>41.49</td>\n",
              "      <td>29.02</td>\n",
              "      <td>3.77</td>\n",
              "      <td>8.46</td>\n",
              "      <td>82.74</td>\n",
              "    </tr>\n",
              "    <tr>\n",
              "      <th>1</th>\n",
              "      <td>2</td>\n",
              "      <td>Super Mario Bros.</td>\n",
              "      <td>NES</td>\n",
              "      <td>1985.0</td>\n",
              "      <td>Platform</td>\n",
              "      <td>Nintendo</td>\n",
              "      <td>29.08</td>\n",
              "      <td>3.58</td>\n",
              "      <td>6.81</td>\n",
              "      <td>0.77</td>\n",
              "      <td>40.24</td>\n",
              "    </tr>\n",
              "    <tr>\n",
              "      <th>2</th>\n",
              "      <td>3</td>\n",
              "      <td>Mario Kart Wii</td>\n",
              "      <td>Wii</td>\n",
              "      <td>2008.0</td>\n",
              "      <td>Racing</td>\n",
              "      <td>Nintendo</td>\n",
              "      <td>15.85</td>\n",
              "      <td>12.88</td>\n",
              "      <td>3.79</td>\n",
              "      <td>3.31</td>\n",
              "      <td>35.82</td>\n",
              "    </tr>\n",
              "    <tr>\n",
              "      <th>3</th>\n",
              "      <td>4</td>\n",
              "      <td>Wii Sports Resort</td>\n",
              "      <td>Wii</td>\n",
              "      <td>2009.0</td>\n",
              "      <td>Sports</td>\n",
              "      <td>Nintendo</td>\n",
              "      <td>15.75</td>\n",
              "      <td>11.01</td>\n",
              "      <td>3.28</td>\n",
              "      <td>2.96</td>\n",
              "      <td>33.00</td>\n",
              "    </tr>\n",
              "    <tr>\n",
              "      <th>4</th>\n",
              "      <td>5</td>\n",
              "      <td>Pokemon Red/Pokemon Blue</td>\n",
              "      <td>GB</td>\n",
              "      <td>1996.0</td>\n",
              "      <td>Role-Playing</td>\n",
              "      <td>Nintendo</td>\n",
              "      <td>11.27</td>\n",
              "      <td>8.89</td>\n",
              "      <td>10.22</td>\n",
              "      <td>1.00</td>\n",
              "      <td>31.37</td>\n",
              "    </tr>\n",
              "  </tbody>\n",
              "</table>\n",
              "</div>\n",
              "    <div class=\"colab-df-buttons\">\n",
              "\n",
              "  <div class=\"colab-df-container\">\n",
              "    <button class=\"colab-df-convert\" onclick=\"convertToInteractive('df-f248c851-d766-434f-bad8-7010d1ec0fa7')\"\n",
              "            title=\"Convert this dataframe to an interactive table.\"\n",
              "            style=\"display:none;\">\n",
              "\n",
              "  <svg xmlns=\"http://www.w3.org/2000/svg\" height=\"24px\" viewBox=\"0 -960 960 960\">\n",
              "    <path d=\"M120-120v-720h720v720H120Zm60-500h600v-160H180v160Zm220 220h160v-160H400v160Zm0 220h160v-160H400v160ZM180-400h160v-160H180v160Zm440 0h160v-160H620v160ZM180-180h160v-160H180v160Zm440 0h160v-160H620v160Z\"/>\n",
              "  </svg>\n",
              "    </button>\n",
              "\n",
              "  <style>\n",
              "    .colab-df-container {\n",
              "      display:flex;\n",
              "      gap: 12px;\n",
              "    }\n",
              "\n",
              "    .colab-df-convert {\n",
              "      background-color: #E8F0FE;\n",
              "      border: none;\n",
              "      border-radius: 50%;\n",
              "      cursor: pointer;\n",
              "      display: none;\n",
              "      fill: #1967D2;\n",
              "      height: 32px;\n",
              "      padding: 0 0 0 0;\n",
              "      width: 32px;\n",
              "    }\n",
              "\n",
              "    .colab-df-convert:hover {\n",
              "      background-color: #E2EBFA;\n",
              "      box-shadow: 0px 1px 2px rgba(60, 64, 67, 0.3), 0px 1px 3px 1px rgba(60, 64, 67, 0.15);\n",
              "      fill: #174EA6;\n",
              "    }\n",
              "\n",
              "    .colab-df-buttons div {\n",
              "      margin-bottom: 4px;\n",
              "    }\n",
              "\n",
              "    [theme=dark] .colab-df-convert {\n",
              "      background-color: #3B4455;\n",
              "      fill: #D2E3FC;\n",
              "    }\n",
              "\n",
              "    [theme=dark] .colab-df-convert:hover {\n",
              "      background-color: #434B5C;\n",
              "      box-shadow: 0px 1px 3px 1px rgba(0, 0, 0, 0.15);\n",
              "      filter: drop-shadow(0px 1px 2px rgba(0, 0, 0, 0.3));\n",
              "      fill: #FFFFFF;\n",
              "    }\n",
              "  </style>\n",
              "\n",
              "    <script>\n",
              "      const buttonEl =\n",
              "        document.querySelector('#df-f248c851-d766-434f-bad8-7010d1ec0fa7 button.colab-df-convert');\n",
              "      buttonEl.style.display =\n",
              "        google.colab.kernel.accessAllowed ? 'block' : 'none';\n",
              "\n",
              "      async function convertToInteractive(key) {\n",
              "        const element = document.querySelector('#df-f248c851-d766-434f-bad8-7010d1ec0fa7');\n",
              "        const dataTable =\n",
              "          await google.colab.kernel.invokeFunction('convertToInteractive',\n",
              "                                                    [key], {});\n",
              "        if (!dataTable) return;\n",
              "\n",
              "        const docLinkHtml = 'Like what you see? Visit the ' +\n",
              "          '<a target=\"_blank\" href=https://colab.research.google.com/notebooks/data_table.ipynb>data table notebook</a>'\n",
              "          + ' to learn more about interactive tables.';\n",
              "        element.innerHTML = '';\n",
              "        dataTable['output_type'] = 'display_data';\n",
              "        await google.colab.output.renderOutput(dataTable, element);\n",
              "        const docLink = document.createElement('div');\n",
              "        docLink.innerHTML = docLinkHtml;\n",
              "        element.appendChild(docLink);\n",
              "      }\n",
              "    </script>\n",
              "  </div>\n",
              "\n",
              "\n",
              "<div id=\"df-00effcff-9894-4462-a087-18d40ea8da09\">\n",
              "  <button class=\"colab-df-quickchart\" onclick=\"quickchart('df-00effcff-9894-4462-a087-18d40ea8da09')\"\n",
              "            title=\"Suggest charts\"\n",
              "            style=\"display:none;\">\n",
              "\n",
              "<svg xmlns=\"http://www.w3.org/2000/svg\" height=\"24px\"viewBox=\"0 0 24 24\"\n",
              "     width=\"24px\">\n",
              "    <g>\n",
              "        <path d=\"M19 3H5c-1.1 0-2 .9-2 2v14c0 1.1.9 2 2 2h14c1.1 0 2-.9 2-2V5c0-1.1-.9-2-2-2zM9 17H7v-7h2v7zm4 0h-2V7h2v10zm4 0h-2v-4h2v4z\"/>\n",
              "    </g>\n",
              "</svg>\n",
              "  </button>\n",
              "\n",
              "<style>\n",
              "  .colab-df-quickchart {\n",
              "      --bg-color: #E8F0FE;\n",
              "      --fill-color: #1967D2;\n",
              "      --hover-bg-color: #E2EBFA;\n",
              "      --hover-fill-color: #174EA6;\n",
              "      --disabled-fill-color: #AAA;\n",
              "      --disabled-bg-color: #DDD;\n",
              "  }\n",
              "\n",
              "  [theme=dark] .colab-df-quickchart {\n",
              "      --bg-color: #3B4455;\n",
              "      --fill-color: #D2E3FC;\n",
              "      --hover-bg-color: #434B5C;\n",
              "      --hover-fill-color: #FFFFFF;\n",
              "      --disabled-bg-color: #3B4455;\n",
              "      --disabled-fill-color: #666;\n",
              "  }\n",
              "\n",
              "  .colab-df-quickchart {\n",
              "    background-color: var(--bg-color);\n",
              "    border: none;\n",
              "    border-radius: 50%;\n",
              "    cursor: pointer;\n",
              "    display: none;\n",
              "    fill: var(--fill-color);\n",
              "    height: 32px;\n",
              "    padding: 0;\n",
              "    width: 32px;\n",
              "  }\n",
              "\n",
              "  .colab-df-quickchart:hover {\n",
              "    background-color: var(--hover-bg-color);\n",
              "    box-shadow: 0 1px 2px rgba(60, 64, 67, 0.3), 0 1px 3px 1px rgba(60, 64, 67, 0.15);\n",
              "    fill: var(--button-hover-fill-color);\n",
              "  }\n",
              "\n",
              "  .colab-df-quickchart-complete:disabled,\n",
              "  .colab-df-quickchart-complete:disabled:hover {\n",
              "    background-color: var(--disabled-bg-color);\n",
              "    fill: var(--disabled-fill-color);\n",
              "    box-shadow: none;\n",
              "  }\n",
              "\n",
              "  .colab-df-spinner {\n",
              "    border: 2px solid var(--fill-color);\n",
              "    border-color: transparent;\n",
              "    border-bottom-color: var(--fill-color);\n",
              "    animation:\n",
              "      spin 1s steps(1) infinite;\n",
              "  }\n",
              "\n",
              "  @keyframes spin {\n",
              "    0% {\n",
              "      border-color: transparent;\n",
              "      border-bottom-color: var(--fill-color);\n",
              "      border-left-color: var(--fill-color);\n",
              "    }\n",
              "    20% {\n",
              "      border-color: transparent;\n",
              "      border-left-color: var(--fill-color);\n",
              "      border-top-color: var(--fill-color);\n",
              "    }\n",
              "    30% {\n",
              "      border-color: transparent;\n",
              "      border-left-color: var(--fill-color);\n",
              "      border-top-color: var(--fill-color);\n",
              "      border-right-color: var(--fill-color);\n",
              "    }\n",
              "    40% {\n",
              "      border-color: transparent;\n",
              "      border-right-color: var(--fill-color);\n",
              "      border-top-color: var(--fill-color);\n",
              "    }\n",
              "    60% {\n",
              "      border-color: transparent;\n",
              "      border-right-color: var(--fill-color);\n",
              "    }\n",
              "    80% {\n",
              "      border-color: transparent;\n",
              "      border-right-color: var(--fill-color);\n",
              "      border-bottom-color: var(--fill-color);\n",
              "    }\n",
              "    90% {\n",
              "      border-color: transparent;\n",
              "      border-bottom-color: var(--fill-color);\n",
              "    }\n",
              "  }\n",
              "</style>\n",
              "\n",
              "  <script>\n",
              "    async function quickchart(key) {\n",
              "      const quickchartButtonEl =\n",
              "        document.querySelector('#' + key + ' button');\n",
              "      quickchartButtonEl.disabled = true;  // To prevent multiple clicks.\n",
              "      quickchartButtonEl.classList.add('colab-df-spinner');\n",
              "      try {\n",
              "        const charts = await google.colab.kernel.invokeFunction(\n",
              "            'suggestCharts', [key], {});\n",
              "      } catch (error) {\n",
              "        console.error('Error during call to suggestCharts:', error);\n",
              "      }\n",
              "      quickchartButtonEl.classList.remove('colab-df-spinner');\n",
              "      quickchartButtonEl.classList.add('colab-df-quickchart-complete');\n",
              "    }\n",
              "    (() => {\n",
              "      let quickchartButtonEl =\n",
              "        document.querySelector('#df-00effcff-9894-4462-a087-18d40ea8da09 button');\n",
              "      quickchartButtonEl.style.display =\n",
              "        google.colab.kernel.accessAllowed ? 'block' : 'none';\n",
              "    })();\n",
              "  </script>\n",
              "</div>\n",
              "    </div>\n",
              "  </div>\n"
            ]
          },
          "metadata": {},
          "execution_count": 7
        }
      ]
    },
    {
      "cell_type": "markdown",
      "source": [
        "**Column Transformation**"
      ],
      "metadata": {
        "id": "UqnsdAvdtj_3"
      }
    },
    {
      "cell_type": "code",
      "source": [
        "ds['Past_Decade'] = np.where(ds['Year'] > 2012, 'Yes', 'No')\n"
      ],
      "metadata": {
        "id": "n5yjZFOJtoA5"
      },
      "execution_count": 8,
      "outputs": []
    },
    {
      "cell_type": "code",
      "source": [
        "ds['Past_Decade'].head()\n"
      ],
      "metadata": {
        "colab": {
          "base_uri": "https://localhost:8080/"
        },
        "id": "LiGwlmCqwJHq",
        "outputId": "cf0f0440-7719-40bb-d475-a50dc989ba21"
      },
      "execution_count": 9,
      "outputs": [
        {
          "output_type": "execute_result",
          "data": {
            "text/plain": [
              "0    No\n",
              "1    No\n",
              "2    No\n",
              "3    No\n",
              "4    No\n",
              "Name: Past_Decade, dtype: object"
            ]
          },
          "metadata": {},
          "execution_count": 9
        }
      ]
    },
    {
      "cell_type": "markdown",
      "source": [
        "**Removing** **Outliers**"
      ],
      "metadata": {
        "id": "KMOVwFLqwiMN"
      }
    },
    {
      "cell_type": "code",
      "source": [
        "ds['Global_Sales'] = pd.to_numeric(ds['Global_Sales'], errors='coerce')\n",
        "\n",
        "low_threshold = 0.15\n",
        "up_threshold = 30.0\n",
        "\n",
        "ds_clean = ds[(ds['Global_Sales'] >= low_threshold) & (ds['Global_Sales'] <= up_threshold)]\n",
        "\n",
        "print(ds_clean)"
      ],
      "metadata": {
        "colab": {
          "base_uri": "https://localhost:8080/"
        },
        "id": "yzDwfK0QwT2M",
        "outputId": "f162d27f-0c5e-4920-ee23-6a53846119a3"
      },
      "execution_count": 10,
      "outputs": [
        {
          "output_type": "stream",
          "name": "stdout",
          "text": [
            "      Rank                                Name Platform    Year       Genre  \\\n",
            "7        8                            Wii Play      Wii  2006.0        Misc   \n",
            "8        9           New Super Mario Bros. Wii      Wii  2009.0    Platform   \n",
            "9       10                           Duck Hunt      NES  1984.0     Shooter   \n",
            "10      11                          Nintendogs       DS  2005.0  Simulation   \n",
            "11      12                       Mario Kart DS       DS  2005.0      Racing   \n",
            "...    ...                                 ...      ...     ...         ...   \n",
            "8988  8990  Dynasty Warriors 8: Xtreme Legends      PSV  2013.0      Action   \n",
            "8989  8991   Moshi Monsters: Katsuma Unleashed       DS  2013.0      Action   \n",
            "8990  8992                      Elf: The Movie      GBA  2004.0      Action   \n",
            "8991  8993                        Metal Slug 7       DS  2008.0     Shooter   \n",
            "8992  8994                  MLB SlugFest 20-03       GC  2002.0      Sports   \n",
            "\n",
            "                   Publisher  NA_Sales  EU_Sales  JP_Sales  Other_Sales  \\\n",
            "7                   Nintendo     14.03      9.20      2.93         2.85   \n",
            "8                   Nintendo     14.59      7.06      4.70         2.26   \n",
            "9                   Nintendo     26.93      0.63      0.28         0.47   \n",
            "10                  Nintendo      9.07     11.00      1.93         2.75   \n",
            "11                  Nintendo      9.81      7.57      4.13         1.92   \n",
            "...                      ...       ...       ...       ...          ...   \n",
            "8988              Tecmo Koei      0.04      0.03      0.05         0.02   \n",
            "8989              Activision      0.00      0.13      0.00         0.02   \n",
            "8990     Crave Entertainment      0.10      0.04      0.00         0.00   \n",
            "8991  Ignition Entertainment      0.13      0.00      0.01         0.01   \n",
            "8992            Midway Games      0.11      0.03      0.00         0.00   \n",
            "\n",
            "      Global_Sales Past_Decade  \n",
            "7            29.02          No  \n",
            "8            28.62          No  \n",
            "9            28.31          No  \n",
            "10           24.76          No  \n",
            "11           23.42          No  \n",
            "...            ...         ...  \n",
            "8988          0.15         Yes  \n",
            "8989          0.15         Yes  \n",
            "8990          0.15          No  \n",
            "8991          0.15          No  \n",
            "8992          0.15          No  \n",
            "\n",
            "[8986 rows x 12 columns]\n"
          ]
        }
      ]
    },
    {
      "cell_type": "markdown",
      "source": [
        "**Drop Duplicates**"
      ],
      "metadata": {
        "id": "qcBxWfGizB07"
      }
    },
    {
      "cell_type": "code",
      "source": [
        "ds_no_duplicates = ds.drop_duplicates()\n"
      ],
      "metadata": {
        "id": "IHNq5FeLzIDi"
      },
      "execution_count": 13,
      "outputs": []
    },
    {
      "cell_type": "code",
      "source": [
        "ds.head"
      ],
      "metadata": {
        "colab": {
          "base_uri": "https://localhost:8080/"
        },
        "id": "53f6Vpey0a2q",
        "outputId": "780c5e56-9234-447a-8d2a-7d7d8180ed11"
      },
      "execution_count": 14,
      "outputs": [
        {
          "output_type": "execute_result",
          "data": {
            "text/plain": [
              "<bound method NDFrame.head of         Rank                                              Name Platform  \\\n",
              "0          1                                        Wii Sports      Wii   \n",
              "1          2                                 Super Mario Bros.      NES   \n",
              "2          3                                    Mario Kart Wii      Wii   \n",
              "3          4                                 Wii Sports Resort      Wii   \n",
              "4          5                          Pokemon Red/Pokemon Blue       GB   \n",
              "5          6                                            Tetris       GB   \n",
              "9         10                                         Duck Hunt      NES   \n",
              "10        11                                        Nintendogs       DS   \n",
              "12        13                       Pokemon Gold/Pokemon Silver       GB   \n",
              "13        14                                           Wii Fit      Wii   \n",
              "15        16                                Kinect Adventures!     X360   \n",
              "16        17                                Grand Theft Auto V      PS3   \n",
              "17        18                     Grand Theft Auto: San Andreas      PS2   \n",
              "18        19                                 Super Mario World     SNES   \n",
              "22        23                               Super Mario Bros. 3      NES   \n",
              "24        25                       Grand Theft Auto: Vice City      PS2   \n",
              "28        29                            Gran Turismo 3: A-Spec      PS2   \n",
              "29        30                    Call of Duty: Modern Warfare 3     X360   \n",
              "30        31           Pokémon Yellow: Special Pikachu Edition       GB   \n",
              "33        34                         Call of Duty: Black Ops 3      PS4   \n",
              "34        35                        Call of Duty: Black Ops II      PS3   \n",
              "44        45                                Grand Theft Auto V      PS4   \n",
              "50        51                Super Mario Land 2: 6 Golden Coins       GB   \n",
              "52        53                                      Gran Turismo       PS   \n",
              "57        58                             Super Mario All-Stars     SNES   \n",
              "71        72                               Donkey Kong Country     SNES   \n",
              "89        90                                           Pac-Man     2600   \n",
              "104      105                        Need for Speed Underground      PS2   \n",
              "127      128                               The Legend of Zelda      NES   \n",
              "132      133                           Pokémon Crystal Version       GB   \n",
              "179      180                                   Madden NFL 2004      PS2   \n",
              "187      188         Donkey Kong Country 2: Diddy's Kong Quest     SNES   \n",
              "221      222                                           FIFA 17      PS4   \n",
              "231      232           The Legend of Zelda: A Link to the Past     SNES   \n",
              "239      240                                          Pitfall!     2600   \n",
              "251      252                   Zelda II: The Adventure of Link      NES   \n",
              "258      259                                         Asteroids     2600   \n",
              "421      422                                          Baseball      NES   \n",
              "5957    5959                            Imagine: Makeup Artist       DS   \n",
              "14390  14393  Phantasy Star Online 2 Episode 4: Deluxe Package      PS4   \n",
              "\n",
              "         Year         Genre                    Publisher  NA_Sales  EU_Sales  \\\n",
              "0      2006.0        Sports                     Nintendo     41.49     29.02   \n",
              "1      1985.0      Platform                     Nintendo     29.08      3.58   \n",
              "2      2008.0        Racing                     Nintendo     15.85     12.88   \n",
              "3      2009.0        Sports                     Nintendo     15.75     11.01   \n",
              "4      1996.0  Role-Playing                     Nintendo     11.27      8.89   \n",
              "5      1989.0        Puzzle                     Nintendo     23.20      2.26   \n",
              "9      1984.0       Shooter                     Nintendo     26.93      0.63   \n",
              "10     2005.0    Simulation                     Nintendo      9.07     11.00   \n",
              "12     1999.0  Role-Playing                     Nintendo      9.00      6.18   \n",
              "13     2007.0        Sports                     Nintendo      8.94      8.03   \n",
              "15     2010.0          Misc       Microsoft Game Studios     14.97      4.94   \n",
              "16     2013.0        Action         Take-Two Interactive      7.01      9.27   \n",
              "17     2004.0        Action         Take-Two Interactive      9.43      0.40   \n",
              "18     1990.0      Platform                     Nintendo     12.78      3.75   \n",
              "22     1988.0      Platform                     Nintendo      9.54      3.44   \n",
              "24     2002.0        Action         Take-Two Interactive      8.41      5.49   \n",
              "28     2001.0        Racing  Sony Computer Entertainment      6.85      5.09   \n",
              "29     2011.0       Shooter                   Activision      9.03      4.28   \n",
              "30     1998.0  Role-Playing                     Nintendo      5.89      5.04   \n",
              "33     2015.0       Shooter                   Activision      5.77      5.81   \n",
              "34     2012.0       Shooter                   Activision      4.99      5.88   \n",
              "44     2014.0        Action         Take-Two Interactive      3.80      5.81   \n",
              "50     1992.0     Adventure                     Nintendo      6.16      2.04   \n",
              "52     1997.0        Racing  Sony Computer Entertainment      4.02      3.87   \n",
              "57     1993.0      Platform                     Nintendo      5.99      2.15   \n",
              "71     1994.0      Platform                     Nintendo      4.36      1.71   \n",
              "89     1982.0        Puzzle                        Atari      7.28      0.45   \n",
              "104    2003.0        Racing              Electronic Arts      3.27      2.83   \n",
              "127    1986.0        Action                     Nintendo      3.74      0.93   \n",
              "132    2000.0  Role-Playing                     Nintendo      2.55      1.56   \n",
              "179       NaN        Sports              Electronic Arts      4.26      0.26   \n",
              "187    1995.0      Platform                     Nintendo      2.10      0.74   \n",
              "221    2016.0        Sports              Electronic Arts      0.28      3.75   \n",
              "231    1991.0        Action                     Nintendo      2.42      0.91   \n",
              "239    1981.0      Platform                   Activision      4.21      0.24   \n",
              "251    1987.0     Adventure                     Nintendo      2.19      0.50   \n",
              "258    1980.0       Shooter                        Atari      4.00      0.26   \n",
              "421    1983.0        Sports                     Nintendo      0.73      0.10   \n",
              "5957   2020.0    Simulation                      Ubisoft      0.27      0.00   \n",
              "14390  2017.0  Role-Playing                         Sega      0.00      0.00   \n",
              "\n",
              "       JP_Sales  Other_Sales  Global_Sales Past_Decade  \n",
              "0          3.77         8.46         82.74          No  \n",
              "1          6.81         0.77         40.24          No  \n",
              "2          3.79         3.31         35.82          No  \n",
              "3          3.28         2.96         33.00          No  \n",
              "4         10.22         1.00         31.37          No  \n",
              "5          4.22         0.58         30.26          No  \n",
              "9          0.28         0.47         28.31          No  \n",
              "10         1.93         2.75         24.76          No  \n",
              "12         7.20         0.71         23.10          No  \n",
              "13         3.60         2.15         22.72          No  \n",
              "15         0.24         1.67         21.82          No  \n",
              "16         0.97         4.14         21.40         Yes  \n",
              "17         0.41        10.57         20.81          No  \n",
              "18         3.54         0.55         20.61          No  \n",
              "22         3.84         0.46         17.28          No  \n",
              "24         0.47         1.78         16.15          No  \n",
              "28         1.87         1.16         14.98          No  \n",
              "29         0.13         1.32         14.76          No  \n",
              "30         3.12         0.59         14.64          No  \n",
              "33         0.35         2.31         14.24         Yes  \n",
              "34         0.65         2.52         14.03          No  \n",
              "44         0.36         2.02         11.98         Yes  \n",
              "50         2.69         0.29         11.18          No  \n",
              "52         2.54         0.52         10.95          No  \n",
              "57         2.12         0.29         10.55          No  \n",
              "71         3.00         0.23          9.30          No  \n",
              "89         0.00         0.08          7.81          No  \n",
              "104        0.08         1.02          7.20          No  \n",
              "127        1.69         0.14          6.51          No  \n",
              "132        1.29         0.99          6.39          No  \n",
              "179        0.01         0.71          5.23          No  \n",
              "187        2.20         0.11          5.15          No  \n",
              "221        0.06         0.69          4.77         Yes  \n",
              "231        1.15         0.13          4.61          No  \n",
              "239        0.00         0.05          4.50          No  \n",
              "251        1.61         0.08          4.38          No  \n",
              "258        0.00         0.05          4.31          No  \n",
              "421        2.35         0.02          3.20          No  \n",
              "5957       0.00         0.02          0.29         Yes  \n",
              "14390      0.03         0.00          0.03         Yes  >"
            ]
          },
          "metadata": {},
          "execution_count": 14
        }
      ]
    },
    {
      "cell_type": "markdown",
      "source": [
        "**Data Integration**"
      ],
      "metadata": {
        "id": "mVKJBtXS4FKW"
      }
    },
    {
      "cell_type": "code",
      "source": [
        "integrated_ds = ds.groupby(['Name', 'Platform', 'Genre', 'Publisher' ,'Year']).agg({\n",
        "   'NA_Sales' : 'sum',\n",
        "   'EU_Sales' : 'sum',\n",
        "   'JP_Sales' : 'sum',\n",
        "   'Other_Sales' : 'sum',\n",
        "   'Global_Sales' : 'mean'\n",
        "}).reset_index()\n",
        "\n",
        "print(integrated_ds)"
      ],
      "metadata": {
        "colab": {
          "base_uri": "https://localhost:8080/"
        },
        "id": "rP8BdR4i4IiP",
        "outputId": "25910f31-36db-4f48-870c-76c87b51374d"
      },
      "execution_count": 18,
      "outputs": [
        {
          "output_type": "stream",
          "name": "stdout",
          "text": [
            "                                                Name Platform         Genre  \\\n",
            "0                                          Asteroids     2600       Shooter   \n",
            "1                                           Baseball      NES        Sports   \n",
            "2                          Call of Duty: Black Ops 3      PS4       Shooter   \n",
            "3                         Call of Duty: Black Ops II      PS3       Shooter   \n",
            "4                     Call of Duty: Modern Warfare 3     X360       Shooter   \n",
            "5                                Donkey Kong Country     SNES      Platform   \n",
            "6          Donkey Kong Country 2: Diddy's Kong Quest     SNES      Platform   \n",
            "7                                          Duck Hunt      NES       Shooter   \n",
            "8                                            FIFA 17      PS4        Sports   \n",
            "9                                       Gran Turismo       PS        Racing   \n",
            "10                            Gran Turismo 3: A-Spec      PS2        Racing   \n",
            "11                                Grand Theft Auto V      PS3        Action   \n",
            "12                                Grand Theft Auto V      PS4        Action   \n",
            "13                     Grand Theft Auto: San Andreas      PS2        Action   \n",
            "14                       Grand Theft Auto: Vice City      PS2        Action   \n",
            "15                            Imagine: Makeup Artist       DS    Simulation   \n",
            "16                                Kinect Adventures!     X360          Misc   \n",
            "17                                    Mario Kart Wii      Wii        Racing   \n",
            "18                        Need for Speed Underground      PS2        Racing   \n",
            "19                                        Nintendogs       DS    Simulation   \n",
            "20                                           Pac-Man     2600        Puzzle   \n",
            "21  Phantasy Star Online 2 Episode 4: Deluxe Package      PS4  Role-Playing   \n",
            "22                                          Pitfall!     2600      Platform   \n",
            "23                       Pokemon Gold/Pokemon Silver       GB  Role-Playing   \n",
            "24                          Pokemon Red/Pokemon Blue       GB  Role-Playing   \n",
            "25                           Pokémon Crystal Version       GB  Role-Playing   \n",
            "26           Pokémon Yellow: Special Pikachu Edition       GB  Role-Playing   \n",
            "27                             Super Mario All-Stars     SNES      Platform   \n",
            "28                                 Super Mario Bros.      NES      Platform   \n",
            "29                               Super Mario Bros. 3      NES      Platform   \n",
            "30                Super Mario Land 2: 6 Golden Coins       GB     Adventure   \n",
            "31                                 Super Mario World     SNES      Platform   \n",
            "32                                            Tetris       GB        Puzzle   \n",
            "33                               The Legend of Zelda      NES        Action   \n",
            "34           The Legend of Zelda: A Link to the Past     SNES        Action   \n",
            "35                                           Wii Fit      Wii        Sports   \n",
            "36                                        Wii Sports      Wii        Sports   \n",
            "37                                 Wii Sports Resort      Wii        Sports   \n",
            "38                   Zelda II: The Adventure of Link      NES     Adventure   \n",
            "\n",
            "                      Publisher    Year  NA_Sales  EU_Sales  JP_Sales  \\\n",
            "0                         Atari  1980.0      4.00      0.26      0.00   \n",
            "1                      Nintendo  1983.0      0.73      0.10      2.35   \n",
            "2                    Activision  2015.0      5.77      5.81      0.35   \n",
            "3                    Activision  2012.0      4.99      5.88      0.65   \n",
            "4                    Activision  2011.0      9.03      4.28      0.13   \n",
            "5                      Nintendo  1994.0      4.36      1.71      3.00   \n",
            "6                      Nintendo  1995.0      2.10      0.74      2.20   \n",
            "7                      Nintendo  1984.0     26.93      0.63      0.28   \n",
            "8               Electronic Arts  2016.0      0.28      3.75      0.06   \n",
            "9   Sony Computer Entertainment  1997.0      4.02      3.87      2.54   \n",
            "10  Sony Computer Entertainment  2001.0      6.85      5.09      1.87   \n",
            "11         Take-Two Interactive  2013.0      7.01      9.27      0.97   \n",
            "12         Take-Two Interactive  2014.0      3.80      5.81      0.36   \n",
            "13         Take-Two Interactive  2004.0      9.43      0.40      0.41   \n",
            "14         Take-Two Interactive  2002.0      8.41      5.49      0.47   \n",
            "15                      Ubisoft  2020.0      0.27      0.00      0.00   \n",
            "16       Microsoft Game Studios  2010.0     14.97      4.94      0.24   \n",
            "17                     Nintendo  2008.0     15.85     12.88      3.79   \n",
            "18              Electronic Arts  2003.0      3.27      2.83      0.08   \n",
            "19                     Nintendo  2005.0      9.07     11.00      1.93   \n",
            "20                        Atari  1982.0      7.28      0.45      0.00   \n",
            "21                         Sega  2017.0      0.00      0.00      0.03   \n",
            "22                   Activision  1981.0      4.21      0.24      0.00   \n",
            "23                     Nintendo  1999.0      9.00      6.18      7.20   \n",
            "24                     Nintendo  1996.0     11.27      8.89     10.22   \n",
            "25                     Nintendo  2000.0      2.55      1.56      1.29   \n",
            "26                     Nintendo  1998.0      5.89      5.04      3.12   \n",
            "27                     Nintendo  1993.0      5.99      2.15      2.12   \n",
            "28                     Nintendo  1985.0     29.08      3.58      6.81   \n",
            "29                     Nintendo  1988.0      9.54      3.44      3.84   \n",
            "30                     Nintendo  1992.0      6.16      2.04      2.69   \n",
            "31                     Nintendo  1990.0     12.78      3.75      3.54   \n",
            "32                     Nintendo  1989.0     23.20      2.26      4.22   \n",
            "33                     Nintendo  1986.0      3.74      0.93      1.69   \n",
            "34                     Nintendo  1991.0      2.42      0.91      1.15   \n",
            "35                     Nintendo  2007.0      8.94      8.03      3.60   \n",
            "36                     Nintendo  2006.0     41.49     29.02      3.77   \n",
            "37                     Nintendo  2009.0     15.75     11.01      3.28   \n",
            "38                     Nintendo  1987.0      2.19      0.50      1.61   \n",
            "\n",
            "    Other_Sales  Global_Sales  \n",
            "0          0.05          4.31  \n",
            "1          0.02          3.20  \n",
            "2          2.31         14.24  \n",
            "3          2.52         14.03  \n",
            "4          1.32         14.76  \n",
            "5          0.23          9.30  \n",
            "6          0.11          5.15  \n",
            "7          0.47         28.31  \n",
            "8          0.69          4.77  \n",
            "9          0.52         10.95  \n",
            "10         1.16         14.98  \n",
            "11         4.14         21.40  \n",
            "12         2.02         11.98  \n",
            "13        10.57         20.81  \n",
            "14         1.78         16.15  \n",
            "15         0.02          0.29  \n",
            "16         1.67         21.82  \n",
            "17         3.31         35.82  \n",
            "18         1.02          7.20  \n",
            "19         2.75         24.76  \n",
            "20         0.08          7.81  \n",
            "21         0.00          0.03  \n",
            "22         0.05          4.50  \n",
            "23         0.71         23.10  \n",
            "24         1.00         31.37  \n",
            "25         0.99          6.39  \n",
            "26         0.59         14.64  \n",
            "27         0.29         10.55  \n",
            "28         0.77         40.24  \n",
            "29         0.46         17.28  \n",
            "30         0.29         11.18  \n",
            "31         0.55         20.61  \n",
            "32         0.58         30.26  \n",
            "33         0.14          6.51  \n",
            "34         0.13          4.61  \n",
            "35         2.15         22.72  \n",
            "36         8.46         82.74  \n",
            "37         2.96         33.00  \n",
            "38         0.08          4.38  \n"
          ]
        }
      ]
    },
    {
      "cell_type": "markdown",
      "source": [
        "**Data Reduction**"
      ],
      "metadata": {
        "id": "4ABS_k6c5_4d"
      }
    },
    {
      "cell_type": "code",
      "source": [
        "reduced_ds = ds[ds['Year'] > 2012 ]\n",
        "\n",
        "print(reduced_ds.head())"
      ],
      "metadata": {
        "colab": {
          "base_uri": "https://localhost:8080/"
        },
        "id": "W_fEo6sD4DB5",
        "outputId": "7c35744a-6485-4e23-d249-d1198bdbd519"
      },
      "execution_count": 20,
      "outputs": [
        {
          "output_type": "stream",
          "name": "stdout",
          "text": [
            "      Rank                       Name Platform    Year       Genre  \\\n",
            "16      17         Grand Theft Auto V      PS3  2013.0      Action   \n",
            "33      34  Call of Duty: Black Ops 3      PS4  2015.0     Shooter   \n",
            "44      45         Grand Theft Auto V      PS4  2014.0      Action   \n",
            "221    222                    FIFA 17      PS4  2016.0      Sports   \n",
            "5957  5959     Imagine: Makeup Artist       DS  2020.0  Simulation   \n",
            "\n",
            "                 Publisher  NA_Sales  EU_Sales  JP_Sales  Other_Sales  \\\n",
            "16    Take-Two Interactive      7.01      9.27      0.97         4.14   \n",
            "33              Activision      5.77      5.81      0.35         2.31   \n",
            "44    Take-Two Interactive      3.80      5.81      0.36         2.02   \n",
            "221        Electronic Arts      0.28      3.75      0.06         0.69   \n",
            "5957               Ubisoft      0.27      0.00      0.00         0.02   \n",
            "\n",
            "      Global_Sales Past_Decade  \n",
            "16           21.40         Yes  \n",
            "33           14.24         Yes  \n",
            "44           11.98         Yes  \n",
            "221           4.77         Yes  \n",
            "5957          0.29         Yes  \n"
          ]
        }
      ]
    }
  ]
}